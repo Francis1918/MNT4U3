{
 "cells": [
  {
   "cell_type": "code",
   "id": "initial_id",
   "metadata": {
    "collapsed": true,
    "ExecuteTime": {
     "end_time": "2025-05-27T21:33:24.269801Z",
     "start_time": "2025-05-27T21:33:24.264162Z"
    }
   },
   "source": [
    "import sympy as sym\n",
    "from IPython.display import display\n",
    "# ###################################################################\n",
    "def cubic_spline(xs: list[float], ys: list[float]) -> list[sym.Symbol]:\n",
    "    \"\"\"\n",
    "    Cubic spline interpolation ``S``. Every two points are interpolated by a cubic polynomial\n",
    "    ``S_j`` of the form ``S_j(x) = a_j + b_j(x - x_j) + c_j(x - x_j)^2 + d_j(x - x_j)^3.``\n",
    "\n",
    "    xs must be different  but not necessarily ordered nor equally spaced.\n",
    "\n",
    "    ## Parameters\n",
    "    - xs, ys: points to be interpolated\n",
    "\n",
    "    ## Return\n",
    "    - List of symbolic expressions for the cubic spline interpolation.\n",
    "    \"\"\"\n",
    "\n",
    "    points = sorted(zip(xs, ys), key=lambda x: x[0])  # sort points by x\n",
    "\n",
    "    xs = [x for x, _ in points]\n",
    "    ys = [y for _, y in points]\n",
    "\n",
    "    n = len(points) - 1  # number of splines\n",
    "\n",
    "    h = [xs[i + 1] - xs[i] for i in range(n)]  # distances between  contiguous xs\n",
    "\n",
    "    # alpha = # completar\n",
    "    alpha =[0]*(n+1)\n",
    "    for i in range(1, n):\n",
    "        alpha[i] = 3 / h[i] * (ys[i + 1] - ys[i]) - 3 / h[i - 1] * (ys[i] - ys[i - 1])\n",
    "\n",
    "    l = [1]\n",
    "    u = [0]\n",
    "    z = [0]\n",
    "\n",
    "    for i in range(1, n):\n",
    "        l += [2 * (xs[i + 1] - xs[i - 1]) - h[i - 1] * u[i - 1]]\n",
    "        u += [h[i] / l[i]]\n",
    "        z  += [alpha[i] - h[i - 1] * z[i - 1] / l[i]]\n",
    "\n",
    "    l.append(1)\n",
    "    z.append(0)\n",
    "    c = [0] * (n + 1)\n",
    "\n",
    "    x = sym.Symbol(\"x\")\n",
    "    splines = []\n",
    "    for j in range(n - 1, -1, -1):\n",
    "        c[j] = z[j] - u[j] * c[j + 1]\n",
    "        b = (ys[j + 1] - ys[j]) / h[j] - h[j] * (c[j + 1] + 2 * c[j]) / 3\n",
    "        d = (c[j + 1] - c[j]) / (3 * h[j])\n",
    "        a = ys[j]# = completar\n",
    "        print(j, a, b, c[j], d)\n",
    "        S  = a + b * (x - xs[j]) + c[j] * (x - xs[j])**2 + d * (x - xs[j])**3\n",
    "\n",
    "        splines.append(S)\n",
    "    splines.reverse()\n",
    "    return splines"
   ],
   "outputs": [],
   "execution_count": 7
  },
  {
   "metadata": {
    "ExecuteTime": {
     "end_time": "2025-05-27T21:26:49.547410Z",
     "start_time": "2025-05-27T21:26:49.397988Z"
    }
   },
   "cell_type": "code",
   "source": [
    "xs = [0, 1, 2]\n",
    "ys = [-5, -4, 3]\n",
    "\n",
    "splines = cubic_spline(xs=xs, ys=ys)\n",
    "_ = [display(s) for s in splines]\n",
    "print(\"______\")\n",
    "_ = [display(s.expand()) for s in splines]"
   ],
   "id": "161c599db11ad019",
   "outputs": [
    {
     "name": "stdout",
     "output_type": "stream",
     "text": [
      "1 -4 -5.0 18.0 -6.0\n",
      "0 -5 -5.0 0.0 6.0\n"
     ]
    },
    {
     "data": {
      "text/plain": [
       "6.0*x**3 - 5.0*x - 5"
      ],
      "text/latex": "$\\displaystyle 6.0 x^{3} - 5.0 x - 5$"
     },
     "metadata": {},
     "output_type": "display_data"
    },
    {
     "data": {
      "text/plain": [
       "-5.0*x - 6.0*(x - 1)**3 + 18.0*(x - 1)**2 + 1.0"
      ],
      "text/latex": "$\\displaystyle - 5.0 x - 6.0 \\left(x - 1\\right)^{3} + 18.0 \\left(x - 1\\right)^{2} + 1.0$"
     },
     "metadata": {},
     "output_type": "display_data"
    },
    {
     "name": "stdout",
     "output_type": "stream",
     "text": [
      "______\n"
     ]
    },
    {
     "data": {
      "text/plain": [
       "6.0*x**3 - 5.0*x - 5"
      ],
      "text/latex": "$\\displaystyle 6.0 x^{3} - 5.0 x - 5$"
     },
     "metadata": {},
     "output_type": "display_data"
    },
    {
     "data": {
      "text/plain": [
       "-6.0*x**3 + 36.0*x**2 - 59.0*x + 25.0"
      ],
      "text/latex": "$\\displaystyle - 6.0 x^{3} + 36.0 x^{2} - 59.0 x + 25.0$"
     },
     "metadata": {},
     "output_type": "display_data"
    }
   ],
   "execution_count": 6
  },
  {
   "metadata": {},
   "cell_type": "markdown",
   "source": "#### Grafico 1",
   "id": "506d1da61d675ab9"
  },
  {
   "metadata": {
    "ExecuteTime": {
     "end_time": "2025-05-27T21:37:13.517500Z",
     "start_time": "2025-05-27T21:37:13.374317Z"
    }
   },
   "cell_type": "code",
   "source": [
    "import matplotlib.pyplot as plt\n",
    "import numpy as np\n",
    "import sympy as sym\n",
    "\n",
    "# Definimos las coordenadas que quieres comprobar\n",
    "xs = [0, 1, 2]\n",
    "ys = [1, 5, 3]\n",
    "\n",
    "# Generamos los splines usando la función que ya tienes\n",
    "splines = cubic_spline(xs=xs, ys=ys)\n",
    "\n",
    "# Ahora vamos a graficar\n",
    "fig, ax = plt.subplots(figsize=(10, 6))\n",
    "\n",
    "# Graficamos los puntos originales\n",
    "ax.scatter(xs, ys, color='red', s=50, label='Puntos originales')\n",
    "\n",
    "# Graficamos los splines\n",
    "x = sym.Symbol('x')\n",
    "x_vals = np.linspace(min(xs), max(xs), 100)\n",
    "y_vals = []\n",
    "\n",
    "# Para cada valor x, evaluamos el spline correspondiente\n",
    "for x_val in x_vals:\n",
    "    # Determinamos qué spline usar\n",
    "    idx = 0\n",
    "    for i in range(len(xs)-1):\n",
    "        if xs[i] <= x_val <= xs[i+1]:\n",
    "            idx = i\n",
    "            break\n",
    "\n",
    "    # Convertimos la expresión simbólica a una función numérica y evaluamos\n",
    "    spline_func = sym.lambdify(x, splines[idx])\n",
    "    y_vals.append(spline_func(x_val))\n",
    "\n",
    "ax.plot(x_vals, y_vals, 'b-', label='Interpolación por splines cúbicos')\n",
    "\n",
    "# Configuramos el gráfico\n",
    "ax.set_xlabel('x')\n",
    "ax.set_ylabel('y')\n",
    "ax.set_title('Interpolación por splines cúbicos')\n",
    "ax.grid(True)\n",
    "ax.legend()\n",
    "\n",
    "plt.show()"
   ],
   "id": "29f816865a2a017b",
   "outputs": [
    {
     "name": "stdout",
     "output_type": "stream",
     "text": [
      "1 5 10.0 -18.0 6.0\n",
      "0 1 10.0 0.0 -6.0\n"
     ]
    },
    {
     "data": {
      "text/plain": [
       "<Figure size 1000x600 with 1 Axes>"
      ],
      "image/png": "[encoded data removed]"
     },
     "metadata": {},
     "output_type": "display_data"
    }
   ],
   "execution_count": 11
  },
  {
   "metadata": {
    "ExecuteTime": {
     "end_time": "2025-05-27T21:37:16.753296Z",
     "start_time": "2025-05-27T21:37:16.746727Z"
    }
   },
   "cell_type": "code",
   "source": [
    "# Verificación numérica\n",
    "for i, coord in enumerate(zip(xs, ys)):\n",
    "    x_val, y_expected = coord\n",
    "    spline_func = sym.lambdify(x, splines[min(i, len(splines)-1)])\n",
    "    y_calculated = spline_func(x_val)\n",
    "    print(f\"Punto ({x_val}, {y_expected}): Valor calculado = {y_calculated}\")"
   ],
   "id": "77f12c06afe21b65",
   "outputs": [
    {
     "name": "stdout",
     "output_type": "stream",
     "text": [
      "Punto (0, 1): Valor calculado = 1.0\n",
      "Punto (1, 5): Valor calculado = 5.0\n",
      "Punto (2, 3): Valor calculado = 3.0\n"
     ]
    }
   ],
   "execution_count": 12
  },
  {
   "metadata": {},
   "cell_type": "markdown",
   "source": "#Grafico 2",
   "id": "50c2998cd0e2c38"
  },
  {
   "metadata": {},
   "cell_type": "code",
   "outputs": [],
   "execution_count": null,
   "source": "",
   "id": "de5d784591703ea1"
  }
 ],
 "metadata": {
  "kernelspec": {
   "display_name": "Python 3",
   "language": "python",
   "name": "python3"
  },
  "language_info": {
   "codemirror_mode": {
    "name": "ipython",
    "version": 2
   },
   "file_extension": ".py",
   "mimetype": "text/x-python",
   "name": "python",
   "nbconvert_exporter": "python",
   "pygments_lexer": "ipython2",
   "version": "2.7.6"
  }
 },
 "nbformat": 4,
 "nbformat_minor": 5
}
