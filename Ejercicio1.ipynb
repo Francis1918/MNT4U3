{
 "cells": [
  {
   "cell_type": "code",
   "id": "initial_id",
   "metadata": {
    "collapsed": true,
    "ExecuteTime": {
     "end_time": "2025-05-27T21:26:42.503122Z",
     "start_time": "2025-05-27T21:26:42.498654Z"
    }
   },
   "source": [
    "import sympy as sym\n",
    "from IPython.display import display\n",
    "# ###################################################################\n",
    "def cubic_spline(xs: list[float], ys: list[float]) -> list[sym.Symbol]:\n",
    "    \"\"\"\n",
    "    Cubic spline interpolation ``S``. Every two points are interpolated by a cubic polynomial\n",
    "    ``S_j`` of the form ``S_j(x) = a_j + b_j(x - x_j) + c_j(x - x_j)^2 + d_j(x - x_j)^3.``\n",
    "\n",
    "    xs must be different  but not necessarily ordered nor equally spaced.\n",
    "\n",
    "    ## Parameters\n",
    "    - xs, ys: points to be interpolated\n",
    "\n",
    "    ## Return\n",
    "    - List of symbolic expressions for the cubic spline interpolation.\n",
    "    \"\"\"\n",
    "\n",
    "    points = sorted(zip(xs, ys), key=lambda x: x[0])  # sort points by x\n",
    "\n",
    "    xs = [x for x, _ in points]\n",
    "    ys = [y for _, y in points]\n",
    "\n",
    "    n = len(points) - 1  # number of splines\n",
    "\n",
    "    h = [xs[i + 1] - xs[i] for i in range(n)]  # distances between  contiguous xs\n",
    "\n",
    "    # alpha = # completar\n",
    "    alpha =[0]*(n+1)\n",
    "    for i in range(1, n):\n",
    "        alpha[i] = 3 / h[i] * (ys[i + 1] - ys[i]) - 3 / h[i - 1] * (ys[i] - ys[i - 1])\n",
    "\n",
    "    l = [1]\n",
    "    u = [0]\n",
    "    z = [0]\n",
    "\n",
    "    for i in range(1, n):\n",
    "        l += [2 * (xs[i + 1] - xs[i - 1]) - h[i - 1] * u[i - 1]]\n",
    "        u += [h[i] / l[i]]\n",
    "        z  += [alpha[i] - h[i - 1] * z[i - 1] / l[i]]\n",
    "\n",
    "    l.append(1)\n",
    "    z.append(0)\n",
    "    c = [0] * (n + 1)\n",
    "\n",
    "    x = sym.Symbol(\"x\")\n",
    "    splines = []\n",
    "    for j in range(n - 1, -1, -1):\n",
    "        c[j] = z[j] - u[j] * c[j + 1]\n",
    "        b = (ys[j + 1] - ys[j]) / h[j] - h[j] * (c[j + 1] + 2 * c[j]) / 3\n",
    "        d = (c[j + 1] - c[j]) / (3 * h[j])\n",
    "        a = ys[j]# = completar\n",
    "        print(j, a, b, c[j], d)\n",
    "        S  = a + b * (x - xs[j]) + c[j] * (x - xs[j])**2 + d * (x - xs[j])**3\n",
    "\n",
    "        splines.append(S)\n",
    "    splines.reverse()\n",
    "    return splines"
   ],
   "outputs": [],
   "execution_count": 5
  },
  {
   "metadata": {
    "ExecuteTime": {
     "end_time": "2025-05-27T21:26:49.547410Z",
     "start_time": "2025-05-27T21:26:49.397988Z"
    }
   },
   "cell_type": "code",
   "source": [
    "xs = [0, 1, 2]\n",
    "ys = [-5, -4, 3]\n",
    "\n",
    "splines = cubic_spline(xs=xs, ys=ys)\n",
    "_ = [display(s) for s in splines]\n",
    "print(\"______\")\n",
    "_ = [display(s.expand()) for s in splines]"
   ],
   "id": "161c599db11ad019",
   "outputs": [
    {
     "name": "stdout",
     "output_type": "stream",
     "text": [
      "1 -4 -5.0 18.0 -6.0\n",
      "0 -5 -5.0 0.0 6.0\n"
     ]
    },
    {
     "data": {
      "text/plain": [
       "6.0*x**3 - 5.0*x - 5"
      ],
      "text/latex": "$\\displaystyle 6.0 x^{3} - 5.0 x - 5$"
     },
     "metadata": {},
     "output_type": "display_data"
    },
    {
     "data": {
      "text/plain": [
       "-5.0*x - 6.0*(x - 1)**3 + 18.0*(x - 1)**2 + 1.0"
      ],
      "text/latex": "$\\displaystyle - 5.0 x - 6.0 \\left(x - 1\\right)^{3} + 18.0 \\left(x - 1\\right)^{2} + 1.0$"
     },
     "metadata": {},
     "output_type": "display_data"
    },
    {
     "name": "stdout",
     "output_type": "stream",
     "text": [
      "______\n"
     ]
    },
    {
     "data": {
      "text/plain": [
       "6.0*x**3 - 5.0*x - 5"
      ],
      "text/latex": "$\\displaystyle 6.0 x^{3} - 5.0 x - 5$"
     },
     "metadata": {},
     "output_type": "display_data"
    },
    {
     "data": {
      "text/plain": [
       "-6.0*x**3 + 36.0*x**2 - 59.0*x + 25.0"
      ],
      "text/latex": "$\\displaystyle - 6.0 x^{3} + 36.0 x^{2} - 59.0 x + 25.0$"
     },
     "metadata": {},
     "output_type": "display_data"
    }
   ],
   "execution_count": 6
  },
  {
   "metadata": {},
   "cell_type": "code",
   "outputs": [],
   "execution_count": null,
   "source": "",
   "id": "29f816865a2a017b"
  }
 ],
 "metadata": {
  "kernelspec": {
   "display_name": "Python 3",
   "language": "python",
   "name": "python3"
  },
  "language_info": {
   "codemirror_mode": {
    "name": "ipython",
    "version": 2
   },
   "file_extension": ".py",
   "mimetype": "text/x-python",
   "name": "python",
   "nbconvert_exporter": "python",
   "pygments_lexer": "ipython2",
   "version": "2.7.6"
  }
 },
 "nbformat": 4,
 "nbformat_minor": 5
}
